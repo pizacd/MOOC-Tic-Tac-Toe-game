{
 "cells": [
  {
   "cell_type": "code",
   "execution_count": 1,
   "metadata": {},
   "outputs": [],
   "source": [
    "from IPython.display import clear_output\n",
    "\n",
    "def display_board(board):\n",
    "    clear_output()\n",
    "\n",
    "    print('   |   |')\n",
    "    print(' ' + board[1] + ' | ' + board[2] + ' | ' + board[3])\n",
    "    print('   |   |')\n",
    "    print('-----------')\n",
    "    print('   |   |')\n",
    "    print(' ' + board[4] + ' | ' + board[5] + ' | ' + board[6])\n",
    "    print('   |   |')\n",
    "    print('-----------')\n",
    "    print('   |   |')\n",
    "    print(' ' + board[7] + ' | ' + board[8] + ' | ' + board[9])\n",
    "    print('   |   |')"
   ]
  },
  {
   "cell_type": "code",
   "execution_count": 2,
   "metadata": {},
   "outputs": [],
   "source": [
    "def player_input():\n",
    "    marker = ''\n",
    "    \n",
    "    while marker not in ['X','O']:\n",
    "        marker = input('Player 1: Do you want to be X or O? ').upper()\n",
    "\n",
    "    if marker == 'X':\n",
    "        return ('X', 'O')\n",
    "    else:\n",
    "        return ('O', 'X')"
   ]
  },
  {
   "cell_type": "code",
   "execution_count": 3,
   "metadata": {},
   "outputs": [],
   "source": [
    "def place_marker(board, marker, position):\n",
    "    board[position] = marker"
   ]
  },
  {
   "cell_type": "code",
   "execution_count": 4,
   "metadata": {},
   "outputs": [],
   "source": [
    "# winning combinations: covers the two diagonals, all rows, and all columns\n",
    "# [1::4],[1::3],[1:4],[2:9:3],[3:10:3],[3:8:2],[4:7],[7:10]\n",
    "def win_check(board, marker):\n",
    "    win_test = [board[1::4],board[1::3],board[1:4],board[2:9:3],board[3:10:3],board[3:8:2],board[4:7],board[7:10]]\n",
    "    for i in win_test:\n",
    "        if i[::] == list(marker*3):\n",
    "            win = True\n",
    "            break\n",
    "        else:\n",
    "            win = False\n",
    "    return win"
   ]
  },
  {
   "cell_type": "code",
   "execution_count": 5,
   "metadata": {},
   "outputs": [],
   "source": [
    "import random\n",
    "def choose_first():\n",
    "    order = random.randint(0,1)\n",
    "    if order %2 ==0:\n",
    "        return 'Player 2'\n",
    "    else:\n",
    "        return 'Player 1'"
   ]
  },
  {
   "cell_type": "code",
   "execution_count": 6,
   "metadata": {},
   "outputs": [],
   "source": [
    "def space_check(board, position):\n",
    "    return board[position] in ['1','2','3','4','5','6','7','8','9']"
   ]
  },
  {
   "cell_type": "code",
   "execution_count": 7,
   "metadata": {},
   "outputs": [],
   "source": [
    "def full_board_check(board):\n",
    "    for i in range(1,10):\n",
    "        if space_check(board,i):\n",
    "            return False\n",
    "    return True"
   ]
  },
  {
   "cell_type": "code",
   "execution_count": 8,
   "metadata": {},
   "outputs": [],
   "source": [
    "def player_choice(board):\n",
    "    position = 0\n",
    "    while space_check(board,position)== False:\n",
    "        position = int(input('Enter 1-9 for a board space\\n')) \n",
    "    return position"
   ]
  },
  {
   "cell_type": "code",
   "execution_count": 9,
   "metadata": {},
   "outputs": [],
   "source": [
    "def replay():\n",
    "    return input('Do you want to play again? Enter Yes or No: ').lower().startswith('y')"
   ]
  },
  {
   "cell_type": "code",
   "execution_count": 11,
   "metadata": {},
   "outputs": [
    {
     "name": "stdout",
     "output_type": "stream",
     "text": [
      "   |   |\n",
      " X | 2 | 3\n",
      "   |   |\n",
      "-----------\n",
      "   |   |\n",
      " X | X | O\n",
      "   |   |\n",
      "-----------\n",
      "   |   |\n",
      " O | O | X\n",
      "   |   |\n",
      "Player 1 has won the game!!!\n",
      "Do you want to play again? Enter Yes or No: no\n"
     ]
    }
   ],
   "source": [
    "print('Welcome to Tic Tac Toe!')\n",
    "while True:\n",
    "    import random\n",
    "    board = ['#','1','2','3','4','5','6','7','8','9']\n",
    "    turn = 1\n",
    "    player1,player2 = player_input()\n",
    "    choose_first()\n",
    "    if choose_first() == 'Player 1':\n",
    "        turn_order = [player1,player2]\n",
    "        first = 'Player 1'\n",
    "        second = 'Player 2'\n",
    "    else:\n",
    "        turn_order = [player2,player1]\n",
    "        first = 'Player 2'\n",
    "        second = 'Player 1'\n",
    "    play_game = input(first+' will go first: are you ready to play? Type yes or no.\\n')\n",
    "    if play_game.lower() == 'yes':\n",
    "        game_on = True\n",
    "    else:\n",
    "        game_on = False\n",
    "    \n",
    "    while game_on == True:\n",
    "        if turn % 2 != 0:\n",
    "            marker = turn_order[0]\n",
    "        else:\n",
    "            marker = turn_order[1]\n",
    "        display_board(board)\n",
    "        position = player_choice(board)\n",
    "        place_marker(board,marker,position)\n",
    "    \n",
    "        if win_check(board,marker):\n",
    "            display_board(board)\n",
    "            if turn % 2 !=0:\n",
    "                print(first+' has won the game!!!')\n",
    "            else:\n",
    "                print(second+' has won the game!!!')\n",
    "            game_on = False\n",
    "   \n",
    "        elif full_board_check(board):\n",
    "            display_board(board)\n",
    "            print('The game is a tie!')\n",
    "            game_on = False\n",
    "        else:\n",
    "            turn +=1\n",
    "            \n",
    "    if not replay():\n",
    "        break"
   ]
  },
  {
   "cell_type": "code",
   "execution_count": null,
   "metadata": {},
   "outputs": [],
   "source": []
  }
 ],
 "metadata": {
  "kernelspec": {
   "display_name": "Python 3",
   "language": "python",
   "name": "python3"
  },
  "language_info": {
   "codemirror_mode": {
    "name": "ipython",
    "version": 3
   },
   "file_extension": ".py",
   "mimetype": "text/x-python",
   "name": "python",
   "nbconvert_exporter": "python",
   "pygments_lexer": "ipython3",
   "version": "3.7.0"
  }
 },
 "nbformat": 4,
 "nbformat_minor": 2
}
